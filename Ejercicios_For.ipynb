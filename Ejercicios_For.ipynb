{
  "nbformat": 4,
  "nbformat_minor": 0,
  "metadata": {
    "colab": {
      "provenance": [],
      "authorship_tag": "ABX9TyN4A5E0LoqHzP4eg5Bw48tu",
      "include_colab_link": true
    },
    "kernelspec": {
      "name": "python3",
      "display_name": "Python 3"
    },
    "language_info": {
      "name": "python"
    }
  },
  "cells": [
    {
      "cell_type": "markdown",
      "metadata": {
        "id": "view-in-github",
        "colab_type": "text"
      },
      "source": [
        "<a href=\"https://colab.research.google.com/github/sebastianhernandez22/Ejercicios_for/blob/main/Ejercicios_For.ipynb\" target=\"_parent\"><img src=\"https://colab.research.google.com/assets/colab-badge.svg\" alt=\"Open In Colab\"/></a>"
      ]
    },
    {
      "cell_type": "markdown",
      "source": [
        "# INSTRUCCION REPETITIVA FOR\n"
      ],
      "metadata": {
        "id": "50zj5b2iq6l2"
      }
    },
    {
      "cell_type": "code",
      "execution_count": null,
      "metadata": {
        "id": "0lI0Qo0JqvZG"
      },
      "outputs": [],
      "source": [
        "# EJERCICIO 1: mostrar todos los numeros del 1 al 10, sin usar instrucciones repetitivas\n",
        "\n",
        "print(1)\n",
        "print(2)\n",
        "print(3)\n",
        "print(4)\n",
        "print(5)\n",
        "print(6)\n",
        "print(7)\n",
        "print(8)\n",
        "print(9)\n",
        "print(10)\n"
      ]
    },
    {
      "cell_type": "code",
      "source": [
        "# EJERCICIO 2: mostrar los numeros del 1 al 10 usando la instruccion while\n",
        "contador = 1\n",
        "print(contador)\n",
        "while contador <10:\n",
        "  #contador = contador + 1\n",
        "  contador += 1\n",
        "  print(contador)  "
      ],
      "metadata": {
        "id": "KxpG7eHFtgEB"
      },
      "execution_count": null,
      "outputs": []
    },
    {
      "cell_type": "code",
      "source": [
        "# EJERCICIO 3: mostrar los numeros del 1 al 10 usando la instruccion for y una lista como iterable\n",
        "\n",
        "for i in [1,2,3,4,5,6,7,8,9,10]:\n",
        "  print(i)"
      ],
      "metadata": {
        "id": "E9XrawnzvRQv"
      },
      "execution_count": null,
      "outputs": []
    },
    {
      "cell_type": "code",
      "source": [
        "# EJERCICIO 4: mostrar los numeros del 1 al 10 usando la instruccion for y la función range\n",
        "\n",
        "for i in range (1,11):\n",
        "  print(1)"
      ],
      "metadata": {
        "id": "rzlRHw3mwwX4"
      },
      "execution_count": null,
      "outputs": []
    },
    {
      "cell_type": "code",
      "source": [
        "# EJERCICIO 5: mostrar una frase 10 veces usando la instruccion for y una lista\n",
        "\n",
        "lista = [1,2,3,4,5,6,7,8,9,10]\n",
        "for i in lista:\n",
        "  print(f\"{i} sistemas, el mejor!!!!\")"
      ],
      "metadata": {
        "id": "sgZUUiHUxnZ9"
      },
      "execution_count": null,
      "outputs": []
    },
    {
      "cell_type": "code",
      "source": [
        "# EJERCICIO 6: mostrar la silaba inicial de los dias de la semana, usando for y una lista con la silaba inicial de los dias de las semana\n",
        "\n",
        "dias_semana =[\"lu\", \"ma\", \"mie\", \"ju\", \"vi\", \"sa\", \"do\"]\n",
        "for i in dias_semana:\n",
        "  print(i)"
      ],
      "metadata": {
        "id": "-JhKJtaWyhgC"
      },
      "execution_count": null,
      "outputs": []
    },
    {
      "cell_type": "code",
      "source": [
        "# EJERCICIO 7: mostrar una lista de distintos tipos de datos, usando for\n",
        "\n",
        "lista = [1, 3.4, 9, True, \"Nestor\", 8, \"Guanenta\"]\n",
        "for i in lista:\n",
        "  print(i)"
      ],
      "metadata": {
        "id": "ARTUj8kZziwv"
      },
      "execution_count": null,
      "outputs": []
    },
    {
      "cell_type": "code",
      "source": [
        "# EJERCICIO 8: ingresar su nombre y mostrarlo letra por letra, usando for\n",
        "\n",
        "nombre = input(\"digite su nombre: \")\n",
        "for letra in nombre:\n",
        "  print(letra)"
      ],
      "metadata": {
        "id": "jefySKqG0lQ_"
      },
      "execution_count": null,
      "outputs": []
    },
    {
      "cell_type": "code",
      "source": [
        "# EJERCICIO 9: ingresar su nombre y mostrarlo letra por letra, usando for cambiando por asterisco * a la vocal e\n",
        "\n",
        "nombre = input(\"digite su nombre: \")\n",
        "for letra in nombre:\n",
        "  if letra == \"e\":\n",
        "    print(\"*\")\n",
        "  else:\n",
        "    print(letra)"
      ],
      "metadata": {
        "id": "g5GegNTz1FN-"
      },
      "execution_count": null,
      "outputs": []
    },
    {
      "cell_type": "code",
      "source": [
        "# EJERCICIO 10: ingresar su nombre uasando for y mostrarlo letra por letra en mayuscula\n",
        "\n",
        "nombre = input(\"digite su nombre: \")\n",
        "for letra in nombre:\n",
        "  print(letra.upper())"
      ],
      "metadata": {
        "id": "-QMhZLK_AFZw"
      },
      "execution_count": null,
      "outputs": []
    },
    {
      "cell_type": "code",
      "source": [
        "# EJERCICIO 11: imprimir listas de numeros usando for y range\n",
        "\n",
        "print(\"numeros del 0 al 9\")\n",
        "for i in range (10):\n",
        "  print(i)\n",
        "\n",
        "print(\"numeros del 1 al 10\")\n",
        "for i in range (1,11):\n",
        "  print(i)\n",
        "\n",
        "print(\"10 veces la frase\")\n",
        "for i in range (10):\n",
        "  print(\"sistemas el mejor\")\n",
        "\n",
        "print(\"10 veces la frase i = \")\n",
        "for i in range (10):\n",
        "  print(\"i = \" + str(i))\n",
        "\n",
        "print(\"10 veces la frase i = \")\n",
        "for i in range (10):\n",
        "  print(f\" i = {1}\")\n",
        "\n",
        "print(\"rango del 7 al 18, incrementando de 4 en 4\")\n",
        "for i in range(7,17,4):\n",
        "  print(i)\n",
        "\n",
        "print(\"convierte rango en lista a, y la muestra\")\n",
        "a = list(range(1000))\n",
        "print(a)\n"
      ],
      "metadata": {
        "id": "35mRkkFcAsPQ"
      },
      "execution_count": null,
      "outputs": []
    },
    {
      "cell_type": "markdown",
      "source": [
        "# Ejercicios\n",
        "1. dada la siguiente lista de numeros [20, 21, 30, 41, 50, 51, 201] mostrar en pantalla solo los que NO terminan en 1\n",
        "2. Mostrar 1000 veces la palabra \"programación\"\n",
        "3. del conjunto de cadenas [\"E\", \"F\", \"M\", \"A\"] que corresponden a las iniciales de los primeros cuatro meses del año, mostrar el nombre completo de dichos meses\n",
        "4. leer un texto y determinar cuántas veces dicho texto contiene cada una de las vocales en minúscula y/o mayúscula\n"
      ],
      "metadata": {
        "id": "egNQAladGu-o"
      }
    },
    {
      "cell_type": "code",
      "source": [
        "# EJERCICIO 1: dada la siguiente lista de numeros [20, 21, 30, 41, 50, 51, 201] mostrar en pantalla solo los que NO terminan en 1\n",
        "\n",
        "lista = [20, 21, 30, 41, 50, 51, 201]\n",
        "for i in (20, 30, 50):\n",
        "  print(i)\n"
      ],
      "metadata": {
        "id": "41Pg15sBIinN"
      },
      "execution_count": null,
      "outputs": []
    },
    {
      "cell_type": "code",
      "source": [
        "# EJERCICIO 2: Mostrar 1000 veces la palabra \"programación\"\n",
        "\n",
        "print(\"Palabra Programacion 1000 veces\")\n",
        "for i in range(1000):\n",
        "  print(\"programación\")"
      ],
      "metadata": {
        "id": "p0TwsSqfQqQY"
      },
      "execution_count": null,
      "outputs": []
    },
    {
      "cell_type": "code",
      "source": [
        "# EJERCICIO 3: del conjunto de cadenas C que corresponden a las iniciales de los primeros cuatro meses del año, mostrar el nombre completo de dichos meses\n",
        "\n",
        "cadena = (\"E\", \"F\", \"M\", \"A\")\n",
        "for i in range(1):\n",
        "  if \"E\":\n",
        "    print(\"Enero\")\n",
        "  if \"F\":\n",
        "    print(\"Febrero\")\n",
        "  if \"M\":\n",
        "    print(\"Marzo\")\n",
        "  if \"A\":\n",
        "    print(\"Abril\")\n"
      ],
      "metadata": {
        "id": "qu0uf39PRKVL"
      },
      "execution_count": null,
      "outputs": []
    },
    {
      "cell_type": "code",
      "source": [],
      "metadata": {
        "id": "8JAZMuOMV-dD"
      },
      "execution_count": null,
      "outputs": []
    }
  ]
}